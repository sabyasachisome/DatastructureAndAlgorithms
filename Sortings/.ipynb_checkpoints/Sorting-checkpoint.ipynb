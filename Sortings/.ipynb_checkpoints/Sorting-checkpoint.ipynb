{
 "cells": [
  {
   "cell_type": "code",
   "execution_count": null,
   "metadata": {},
   "outputs": [],
   "source": [
    "Merge Sort:\n",
    "    \n",
    "MergeSort(arr[], l,  r)\n",
    "If r > l\n",
    "     1. Find the middle point to divide the array into two halves:  \n",
    "             middle m = (l+r)/2\n",
    "     2. Call mergeSort for first half:   \n",
    "             Call mergeSort(arr, l, m)\n",
    "     3. Call mergeSort for second half:\n",
    "             Call mergeSort(arr, m+1, r)\n",
    "     4. Merge the two halves sorted in step 2 and 3:\n",
    "             Call merge(arr, l, m, r)"
   ]
  },
  {
   "cell_type": "code",
   "execution_count": 34,
   "metadata": {
    "scrolled": true
   },
   "outputs": [
    {
     "name": "stdout",
     "output_type": "stream",
     "text": [
      "[10, 9, 8, 7, 6]\n",
      "Inside mergeSort\n",
      "2\n",
      "[10, 9]\n",
      "[8, 7, 6]\n",
      "Inside mergeSort\n",
      "1\n",
      "[10]\n",
      "[9]\n",
      "[10]\n",
      "[9]\n",
      "[9, 10]\n",
      "Inside mergeSort\n",
      "1\n",
      "[8]\n",
      "[7, 6]\n",
      "[8]\n",
      "Inside mergeSort\n",
      "1\n",
      "[7]\n",
      "[6]\n",
      "[7]\n",
      "[6]\n",
      "[6, 7]\n",
      "[6, 7, 8]\n",
      "[6, 7, 8, 9, 10]\n"
     ]
    }
   ],
   "source": [
    "arr= [10,9,8,7,6]\n",
    "\n",
    "def mergeSort(arr):\n",
    "    if len(arr)>1:\n",
    "#         print('Inside mergeSort')\n",
    "        mid= len(arr)//2\n",
    "#         print(mid)\n",
    "        left= arr[:mid]\n",
    "#         print(left)\n",
    "        right= arr[mid:]\n",
    "#         print(right)\n",
    "        \n",
    "        mergeSort(left)\n",
    "#         print(left)\n",
    "        mergeSort(right)\n",
    "#         print(right)\n",
    "\n",
    "        i=j=k=0\n",
    "        while i< len(left) and j<len(right):\n",
    "            if left[i]<right[j]:\n",
    "                arr[k]=left[i]\n",
    "                i+=1\n",
    "            else:\n",
    "                arr[k]=right[j]\n",
    "                j+=1\n",
    "            k+=1\n",
    "#         remaining items\n",
    "        while i<len(left):\n",
    "            arr[k]=left[i]\n",
    "            i+=1\n",
    "            k+=1\n",
    "        while j<len(right):\n",
    "            arr[k]=right[j]\n",
    "            j+=1\n",
    "            k+=1\n",
    "\n",
    "print(arr)\n",
    "mergeSort(arr)\n",
    "print(arr)"
   ]
  },
  {
   "cell_type": "markdown",
   "metadata": {},
   "source": [
    "Quick Sort:\n",
    "\n",
    "Like Merge Sort, QuickSort is also a divide and Conquer algorithm. It picks an element as pivot and partitions the given array around the picked pivot. There are many different versions of quickSort that pick pivot in different ways.\n",
    "\n",
    "Always pick first element as pivot.\n",
    "Always pick last element as pivot (implemented below)\n",
    "Pick a random element as pivot.\n",
    "Pick median as pivot.\n",
    "The key process in quickSort is partition(). Target of partitions is, given an array and an element x of array as pivot, put x at its correct position in sorted array and put all smaller elements (smaller than x) before x, and put all greater elements (greater than x) after x. All this should be done in linear time."
   ]
  },
  {
   "cell_type": "code",
   "execution_count": 49,
   "metadata": {},
   "outputs": [
    {
     "name": "stdout",
     "output_type": "stream",
     "text": [
      "[10, 9, 8, 7, 6]\n",
      "[6, 7, 8, 9, 10]\n"
     ]
    }
   ],
   "source": [
    "arr=[10,9,8,7,6]\n",
    "\n",
    "def partition(arr, low, high):\n",
    "    pivot= arr[high]\n",
    "    i=low-1\n",
    "    for j in range(low, high):\n",
    "        if arr[low]<pivot:\n",
    "            i+=1\n",
    "            arr[i],arr[j]=arr[j],arr[i]\n",
    "    arr[i+1],arr[high]= arr[high], arr[i+1]\n",
    "    i+=1\n",
    "    return i\n",
    "\n",
    "def quickSort(arr, low, high):\n",
    "    if(low<high):\n",
    "        pivot= partition(arr, low, high)\n",
    "#         print(pivot)\n",
    "\n",
    "        quickSort(arr, low, pivot-1)\n",
    "#         print(arr)\n",
    "        quickSort(arr,pivot+1, high)\n",
    "#         print(arr)\n",
    "\n",
    "print(arr)\n",
    "quickSort(arr, 0, len(arr)-1)\n",
    "print(arr)"
   ]
  },
  {
   "cell_type": "code",
   "execution_count": null,
   "metadata": {},
   "outputs": [],
   "source": [
    "Selection Sort:\n",
    "\n",
    "The selection sort algorithm sorts an array by repeatedly finding the minimum element (considering ascending order) from unsorted part and putting it at the beginning. The algorithm maintains two subarrays in a given array.\n",
    "\n",
    "1) The subarray which is already sorted.\n",
    "2) Remaining subarray which is unsorted.\n",
    "\n",
    "In every iteration of selection sort, the minimum element (considering ascending order) from the unsorted subarray is picked and moved to the sorted subarray."
   ]
  },
  {
   "cell_type": "code",
   "execution_count": 54,
   "metadata": {},
   "outputs": [
    {
     "name": "stdout",
     "output_type": "stream",
     "text": [
      "[10, 9, 8, 7, 6]\n",
      "[6, 7, 8, 9, 10]\n"
     ]
    }
   ],
   "source": [
    "arr=[10,9,8,7,6]\n",
    "\n",
    "def selectionSort(arr):\n",
    "    for i in range(len(arr)):\n",
    "        min_idx=i\n",
    "        for j in range(i+1, len(arr)):\n",
    "            if arr[j]<arr[i]:\n",
    "                min_idx= j\n",
    "        arr[min_idx],arr[i]= arr[i],arr[min_idx]\n",
    "\n",
    "print(arr)\n",
    "selectionSort(arr)\n",
    "print(arr)"
   ]
  },
  {
   "cell_type": "code",
   "execution_count": 51,
   "metadata": {},
   "outputs": [],
   "source": []
  },
  {
   "cell_type": "code",
   "execution_count": 52,
   "metadata": {},
   "outputs": [
    {
     "data": {
      "text/plain": [
       "[6, 7, 8, 9, 10]"
      ]
     },
     "execution_count": 52,
     "metadata": {},
     "output_type": "execute_result"
    }
   ],
   "source": [
    "arr"
   ]
  }
 ],
 "metadata": {
  "kernelspec": {
   "display_name": "Python 3",
   "language": "python",
   "name": "python3"
  },
  "language_info": {
   "codemirror_mode": {
    "name": "ipython",
    "version": 3
   },
   "file_extension": ".py",
   "mimetype": "text/x-python",
   "name": "python",
   "nbconvert_exporter": "python",
   "pygments_lexer": "ipython3",
   "version": "3.7.4"
  }
 },
 "nbformat": 4,
 "nbformat_minor": 2
}
