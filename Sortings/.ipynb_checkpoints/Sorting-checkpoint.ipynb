{
 "cells": [
  {
   "cell_type": "code",
   "execution_count": null,
   "metadata": {},
   "outputs": [],
   "source": [
    "Merge Sort:\n",
    "    \n",
    "MergeSort(arr[], l,  r)\n",
    "If r > l\n",
    "     1. Find the middle point to divide the array into two halves:  \n",
    "             middle m = (l+r)/2\n",
    "     2. Call mergeSort for first half:   \n",
    "             Call mergeSort(arr, l, m)\n",
    "     3. Call mergeSort for second half:\n",
    "             Call mergeSort(arr, m+1, r)\n",
    "     4. Merge the two halves sorted in step 2 and 3:\n",
    "             Call merge(arr, l, m, r)"
   ]
  },
  {
   "cell_type": "code",
   "execution_count": 34,
   "metadata": {
    "collapsed": true
   },
   "outputs": [
    {
     "name": "stdout",
     "output_type": "stream",
     "text": [
      "[10, 9, 8, 7, 6]\n",
      "Inside mergeSort\n",
      "2\n",
      "[10, 9]\n",
      "[8, 7, 6]\n",
      "Inside mergeSort\n",
      "1\n",
      "[10]\n",
      "[9]\n",
      "[10]\n",
      "[9]\n",
      "[9, 10]\n",
      "Inside mergeSort\n",
      "1\n",
      "[8]\n",
      "[7, 6]\n",
      "[8]\n",
      "Inside mergeSort\n",
      "1\n",
      "[7]\n",
      "[6]\n",
      "[7]\n",
      "[6]\n",
      "[6, 7]\n",
      "[6, 7, 8]\n",
      "[6, 7, 8, 9, 10]\n"
     ]
    }
   ],
   "source": [
    "arr= [10,9,8,7,6]\n",
    "\n",
    "def mergeSort(arr):\n",
    "    if len(arr)>1:\n",
    "#         print('Inside mergeSort')\n",
    "        mid= len(arr)//2\n",
    "#         print(mid)\n",
    "        left= arr[:mid]\n",
    "#         print(left)\n",
    "        right= arr[mid:]\n",
    "#         print(right)\n",
    "        \n",
    "        mergeSort(left)\n",
    "#         print(left)\n",
    "        mergeSort(right)\n",
    "#         print(right)\n",
    "\n",
    "        i=j=k=0\n",
    "        while i< len(left) and j<len(right):\n",
    "            if left[i]<right[j]:\n",
    "                arr[k]=left[i]\n",
    "                i+=1\n",
    "            else:\n",
    "                arr[k]=right[j]\n",
    "                j+=1\n",
    "            k+=1\n",
    "#         remaining items\n",
    "        while i<len(left):\n",
    "            arr[k]=left[i]\n",
    "            i+=1\n",
    "            k+=1\n",
    "        while j<len(right):\n",
    "            arr[k]=right[j]\n",
    "            j+=1\n",
    "            k+=1\n",
    "\n",
    "print(arr)\n",
    "mergeSort(arr)\n",
    "print(arr)"
   ]
  },
  {
   "cell_type": "markdown",
   "metadata": {},
   "source": [
    "quick sort:"
   ]
  },
  {
   "cell_type": "code",
   "execution_count": 44,
   "metadata": {},
   "outputs": [
    {
     "name": "stdout",
     "output_type": "stream",
     "text": [
      "[10, 9, 8, 7, 6]\n",
      "0\n",
      "[6, 9, 8, 7, 10]\n"
     ]
    }
   ],
   "source": [
    "arr=[10,9,8,7,6]\n",
    "\n",
    "def partition(arr, low, high):\n",
    "    pivot= arr[high]\n",
    "    i=low-1\n",
    "    for j in range(low, high):\n",
    "        if arr[low]<pivot:\n",
    "            i+=1\n",
    "            arr[i],arr[j]=arr[j],arr[i]\n",
    "    arr[i+1],arr[high]= arr[high], arr[i+1]\n",
    "    i+=1\n",
    "    return i\n",
    "\n",
    "def quickSort(arr, low, high):\n",
    "    if(low<high):\n",
    "        index= partition(arr, low, high)\n",
    "\n",
    "        quickSort(arr, low, index-1)\n",
    "        quickSort(arr,)\n",
    "\n",
    "print(arr)\n",
    "print(partition(arr, 0, len(arr)-1))\n",
    "print(arr)"
   ]
  },
  {
   "cell_type": "code",
   "execution_count": 40,
   "metadata": {},
   "outputs": [
    {
     "data": {
      "text/plain": [
       "0"
      ]
     },
     "execution_count": 40,
     "metadata": {},
     "output_type": "execute_result"
    }
   ],
   "source": []
  },
  {
   "cell_type": "code",
   "execution_count": 41,
   "metadata": {},
   "outputs": [
    {
     "name": "stdout",
     "output_type": "stream",
     "text": [
      "[6, 9, 8, 7, 10]\n"
     ]
    }
   ],
   "source": []
  },
  {
   "cell_type": "code",
   "execution_count": null,
   "metadata": {},
   "outputs": [],
   "source": []
  }
 ],
 "metadata": {
  "kernelspec": {
   "display_name": "Python 3",
   "language": "python",
   "name": "python3"
  },
  "language_info": {
   "codemirror_mode": {
    "name": "ipython",
    "version": 3
   },
   "file_extension": ".py",
   "mimetype": "text/x-python",
   "name": "python",
   "nbconvert_exporter": "python",
   "pygments_lexer": "ipython3",
   "version": "3.7.4"
  }
 },
 "nbformat": 4,
 "nbformat_minor": 2
}
