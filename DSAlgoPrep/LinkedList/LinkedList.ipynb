{
 "cells": [
  {
   "cell_type": "code",
   "execution_count": 12,
   "metadata": {},
   "outputs": [
    {
     "name": "stdout",
     "output_type": "stream",
     "text": [
      "head=>5=>6=>7=>8\n",
      "head=>5=>6=>20=>10=>7=>8\n",
      "head=>5=>6=>20=>7=>8\n"
     ]
    }
   ],
   "source": [
    "class Node:\n",
    "    def __init__(self, data):\n",
    "        self.data=data\n",
    "        self.next= None\n",
    "        \n",
    "class LinkedList:\n",
    "    def __init__(self):\n",
    "        self.head= None\n",
    "        \n",
    "    def insert_node(self, val, pos):\n",
    "        target= Node(val)\n",
    "        if pos==0:\n",
    "            target.next= self.head\n",
    "            self.head= target\n",
    "            return\n",
    "        else:\n",
    "            previous_node= self.get_value(pos-1)\n",
    "            target.next= previous_node.next\n",
    "            previous_node.next= target\n",
    "            \n",
    "    def delete_node(self, key):\n",
    "        temp= self.head\n",
    "        if(temp is None):\n",
    "            return\n",
    "        if (temp.data==key):\n",
    "            self.head= temp.next\n",
    "            temp= None\n",
    "            return\n",
    "        \n",
    "        while(temp.next.data!= key):\n",
    "            temp= temp.next\n",
    "        \n",
    "        target_node= temp.next\n",
    "        temp.next= target_node.next\n",
    "        target_node.next= None\n",
    "        \n",
    "    \n",
    "    def get_value(self, pos):\n",
    "        counter=0 #head starts=0, counter= 1 if head starts=1\n",
    "        temp= self.head\n",
    "        while(counter<pos):\n",
    "            temp= temp.next\n",
    "            counter+=1\n",
    "        return temp\n",
    "    \n",
    "    def print_list(self):\n",
    "        temp= self.head\n",
    "        list_str= \"head=>\"\n",
    "        while(temp.next):\n",
    "            list_str+= str(temp.data)+\"=>\"\n",
    "            temp= temp.next\n",
    "        list_str+= str(temp.data)\n",
    "        print(list_str)\n",
    "\n",
    "# create the linkedList\n",
    "linked_list= LinkedList()\n",
    "\n",
    "# create nodes\n",
    "node1= Node(5)\n",
    "node2= Node(6)\n",
    "node3= Node(7)\n",
    "node4= Node(8)\n",
    "\n",
    "# link them\n",
    "linked_list.head= node1\n",
    "node1.next=node2\n",
    "node2.next=node3\n",
    "node3.next=node4\n",
    "\n",
    "# print list\n",
    "linked_list.print_list()\n",
    "\n",
    "# get value at position\n",
    "# linked_list.get_value(3)\n",
    "\n",
    "#insert node\n",
    "linked_list.insert_node(10,2)\n",
    "linked_list.insert_node(20,2)\n",
    "linked_list.print_list()\n",
    "\n",
    "# delete node\n",
    "linked_list.delete_node(10)\n",
    "linked_list.print_list()"
   ]
  },
  {
   "cell_type": "code",
   "execution_count": null,
   "metadata": {},
   "outputs": [],
   "source": []
  },
  {
   "cell_type": "code",
   "execution_count": null,
   "metadata": {},
   "outputs": [],
   "source": []
  },
  {
   "cell_type": "code",
   "execution_count": null,
   "metadata": {},
   "outputs": [],
   "source": []
  },
  {
   "cell_type": "code",
   "execution_count": null,
   "metadata": {},
   "outputs": [],
   "source": []
  },
  {
   "cell_type": "code",
   "execution_count": null,
   "metadata": {},
   "outputs": [],
   "source": []
  }
 ],
 "metadata": {
  "kernelspec": {
   "display_name": "Python 3",
   "language": "python",
   "name": "python3"
  },
  "language_info": {
   "codemirror_mode": {
    "name": "ipython",
    "version": 3
   },
   "file_extension": ".py",
   "mimetype": "text/x-python",
   "name": "python",
   "nbconvert_exporter": "python",
   "pygments_lexer": "ipython3",
   "version": "3.7.4"
  }
 },
 "nbformat": 4,
 "nbformat_minor": 2
}
