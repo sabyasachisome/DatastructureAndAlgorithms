{
 "cells": [
  {
   "cell_type": "code",
   "execution_count": 34,
   "metadata": {},
   "outputs": [
    {
     "name": "stdout",
     "output_type": "stream",
     "text": [
      " head => 5 => 6 => 7 => 8\n"
     ]
    }
   ],
   "source": [
    "class Node:\n",
    "    def __init__(self, data):\n",
    "        self.data= data\n",
    "        self.next= None\n",
    "    \n",
    "    def __str__(self):\n",
    "        return 'data in the node is : '+str(self.data)\n",
    "        \n",
    "class LinkedList:\n",
    "    def __init__(self):\n",
    "        self.head= None\n",
    "    \n",
    "    def printList(self):\n",
    "        temp= self.head\n",
    "        linked_list=\" head => \"\n",
    "        while(temp.next):\n",
    "            linked_list+= (str(temp.data))+' => '\n",
    "            temp= temp.next\n",
    "        linked_list+= (str(temp.data))+''\n",
    "        print(linked_list)\n",
    "\n",
    "linked_list= LinkedList()\n",
    "linked_list.head= Node(5)\n",
    "\n",
    "second_node= Node(6)\n",
    "third_node= Node(7)\n",
    "fourth_node= Node(8)\n",
    "\n",
    "linked_list.head.next= second_node\n",
    "second_node.next= third_node\n",
    "third_node.next= fourth_node\n",
    "linked_list.printList()"
   ]
  },
  {
   "cell_type": "code",
   "execution_count": null,
   "metadata": {},
   "outputs": [],
   "source": []
  },
  {
   "cell_type": "code",
   "execution_count": null,
   "metadata": {},
   "outputs": [],
   "source": []
  },
  {
   "cell_type": "code",
   "execution_count": null,
   "metadata": {},
   "outputs": [],
   "source": []
  }
 ],
 "metadata": {
  "kernelspec": {
   "display_name": "Python 3",
   "language": "python",
   "name": "python3"
  },
  "language_info": {
   "codemirror_mode": {
    "name": "ipython",
    "version": 3
   },
   "file_extension": ".py",
   "mimetype": "text/x-python",
   "name": "python",
   "nbconvert_exporter": "python",
   "pygments_lexer": "ipython3",
   "version": "3.7.4"
  }
 },
 "nbformat": 4,
 "nbformat_minor": 2
}
